{
 "cells": [
  {
   "cell_type": "markdown",
   "id": "40c0d63c-648f-4388-8a48-40e5f76579ce",
   "metadata": {
    "tags": []
   },
   "source": [
    "# Calculating the GBT time required to detect a galaxy cluster with MUSTANG-2\n",
    "\n",
    "## Authors: Charles Romero and Emily Moravec\n",
    "\n",
    "## Usage\n",
    "You can use this notebook as a template to calculate the required GBT time to detect a cluster of a given mass and at a given redshift with MUSTANG-2. You will need to install M2_ProposalTools (see https://m2-tj.readthedocs.io/en/latest/index.html for details). This notebook is based on the \"Example case of estimating observing time for assumed A10 clusters\" example on M2_ProposalTools (https://m2-tj.readthedocs.io/en/latest/SinglePointing_M2.html). \n",
    "\n",
    "## About\n",
    "Hello potential MUSTANG-2 observer that wants to know how much telescope time is required to detect a given a cluster of a specific mass at a particular redshift at a particular signal-to-noise ratio. This notebook walks you through creating an expected compton-y signal map for your given parameters, running your map through the MUSTANG-2 transfer functions to take into account the filtering of MUSTANG-2, and convolving this model map with the MUSTANG-2 beam. It then calculates the required observing time for your cluster based on your SNR requirement and the peak of the simulated SZ signal."
   ]
  },
  {
   "cell_type": "markdown",
   "id": "0876ebf6-ea06-45c3-9b82-2c1b97182c40",
   "metadata": {
    "tags": []
   },
   "source": [
    "## Imports and constants"
   ]
  },
  {
   "cell_type": "code",
   "execution_count": 20,
   "id": "c1bedbd1-5339-4c29-a6de-002fd271c7e5",
   "metadata": {},
   "outputs": [],
   "source": [
    "import M2_ProposalTools.WorkHorse as WH\n",
    "import numpy as np\n",
    "import astropy.units as u\n",
    "import M2_ProposalTools.FilterImages as FI\n",
    "import scipy"
   ]
  },
  {
   "cell_type": "code",
   "execution_count": 21,
   "id": "6d42ff13-bd54-4315-b06f-f1f277914bbb",
   "metadata": {},
   "outputs": [],
   "source": [
    "# Constants needed for calculations - it is recommended that you keep these default parameters.\n",
    "h70            = 1                          # Normalization of Hubble parameter\n",
    "fwhm           = 10.0                       # Roughly the resolution of MUSTANG-2\n",
    "pixsize        = 2.0                        # Map pixel size (arcseconds) - making a map - package does beam convolution and filtering\n",
    "s2f            = np.sqrt(8.0*np.log(2.0))   # Conversion between FWHM and sigma\n",
    "pix_sigma      = fwhm/(pixsize*s2f)         # Gaussian sigma, in pixel size\n",
    "y2k            = -3.3                       # Approximate conversion of compton-y to Kelvin. -3.3 is conservative whereas -3.4 is perhaps more accurate."
   ]
  },
  {
   "cell_type": "markdown",
   "id": "a581fb1b-2b37-4e8c-b186-647dcaba7270",
   "metadata": {},
   "source": [
    "## MUSTANG-2 Parameters\n",
    "Change these parameters based on your science. Consult https://gbtdocs.readthedocs.io/en/latest/references/receivers/mustang2/mustang2_mapping.html for the corresponding row."
   ]
  },
  {
   "cell_type": "code",
   "execution_count": 22,
   "id": "fdff3d2b-4a33-4744-9f44-52b9788f9ecd",
   "metadata": {},
   "outputs": [],
   "source": [
    "scansize  = 3.0 # Scan size: 3' or 3.5' is recommended \n",
    "mapping_speed_uJy = 57 # mapping speed in uJy/beam root hour\n",
    "mapping_speed_uK = 74 # mapping speed in uK root hour\n",
    "K_to_J = (mapping_speed_uJy/mapping_speed_uK) # conversion of Kelvin to Janskys"
   ]
  },
  {
   "cell_type": "markdown",
   "id": "9d7724dc-f224-41d1-8299-5d240a01b3f3",
   "metadata": {},
   "source": [
    "## Function for calculating the observing time for a single cluster\n",
    "\n",
    "The math that we use to calculate the required is as follows (see https://gbtdocs.readthedocs.io/en/latest/how-tos/receivers/mustang2/mustang2_proposal.html#calculating-sensitivities). From the radiometer equation we know that $t \\propto 1/\\sigma^2$ where $t$ is observing time and $\\sigma$ is the sensitivity/RMS/noise of the observation. Then we set up a proportional relationship $t_2/t_1 \\propto (\\sigma_1/\\sigma_2)^2$ where $t_2$ is the required integration time that you are solving for, $\\sigma_1$ is the mapping speed corresponding to your desired map size (see https://gbtdocs.readthedocs.io/en/latest/references/receivers/mustang2/mustang2_mapping.html#mustang-2-mapping-information), $t_1$ is as the mapping speed are in within 1 hour, and $\\sigma_2$ is the desired sensitivity that you are calculating here in this notebook."
   ]
  },
  {
   "cell_type": "code",
   "execution_count": 43,
   "id": "09575c23-0ad6-4788-a722-7502c336375c",
   "metadata": {},
   "outputs": [],
   "source": [
    "def calculate_observing_time(M500,z,SNR_required):\n",
    "    print(\"-\"*5,\"Cluster Properties\",\"-\"*5)\n",
    "    print(\"M500 (1e14):\",(M500/1e14).value)\n",
    "    print(\"Redshift:\",z)\n",
    "\n",
    "    # Create expected signal map\n",
    "    ymap = WH.make_A10Map(M500,z,pixsize=pixsize,Dist=True) # create compton-y map\n",
    "    mymap = WH.smooth_by_M2_beam(ymap,pixsize=pixsize) # convolve signal map (y) with MUSTANG-2 beam\n",
    "\n",
    "    # Filter signal map\n",
    "    tab = WH.get_xfertab(scansize) # 2D array of values used to create filtered map\n",
    "    filtered_model_ymap = FI.apply_xfer(mymap,tab,pixsize) # apply transfer function to compton-y map and create a filtered map\n",
    "    snr_smoothing_kernel = pix_sigma*0.9 # when an SNR map is created there is smoothing applied - it is recommended to keep this smoothing at 90% of M2 beam (so keep 0.9)\n",
    "    yxfer = scipy.ndimage.gaussian_filter(filtered_model_ymap, snr_smoothing_kernel)\n",
    "    \n",
    "    # Convert model map to observable values (uJy/beam or uK)\n",
    "    uKmap      = yxfer*y2k*1e6 # convert compton-y map to uK (1e6 is to convert from K to uK)\n",
    "    uJymap     = uKmap * K_to_J\n",
    "    \n",
    "    # Calculate peak value wrt the scale of interest (some values are negative)\n",
    "    print(\"-\"*5,\"Signal Peak Stats\",\"-\"*5)\n",
    "    SZpeak_yraw  = np.max(ymap) # peak of y-map\n",
    "    print(\"Unfiltered y peak:\", SZpeak_yraw)\n",
    "    SZpeak_yconvolved  = np.max(mymap)\n",
    "    print(\"Beam-convolved y peak:\", SZpeak_yconvolved)\n",
    "    SZpeak_yxfer  = np.max(yxfer)\n",
    "    print(\"Filtered y peak:\", SZpeak_yxfer)\n",
    "    SZpeak_uK  = np.min(uKmap) # this is negative so calculate minimum\n",
    "    print(\"Filtered peak, uK:\", SZpeak_uK)\n",
    "    SZpeak_uJy = np.min(uJymap) # this is negative so calculate minimum\n",
    "    print(\"Filtered peak, uJy/beam:\", SZpeak_uJy)\n",
    "    \n",
    "    # Calculate the observing time based on the Compton-y peak in uJy/beam\n",
    "    print(\"-\"*5,\"Telescope Time Stats\",\"-\"*5)\n",
    "    target_sensitivity = SZpeak_uJy/SNR_required # calculate the detection threshold based on the required SNR\n",
    "    print(\"Your target sensitivity or 1-sigma level in uJy/beam is:\",np.abs(target_sensitivity))\n",
    "    # from the radiometer and a proportional relationship (see math in comments above) we can calculate the observing time required\n",
    "    ObsTime = np.round((mapping_speed_uJy/target_sensitivity)**2,5) # from unit analysis this variable is in units of hours\n",
    "    print(\"On-source time to\",str(SNR_required),\"sigma peak detection (hrs):\",ObsTime)\n",
    "    TotalTimeRequest = ObsTime * 2 # include the required GBT high frequency factor of 2 to account for overheads\n",
    "    # GBT time gets scheduled in units of 0.25 hr so convert and \n",
    "    TelTime = np.ceil(TotalTimeRequest*4)/4.0\n",
    "\n",
    "    print(\"Total telescope time for this cluster (hrs):\",TelTime)\n",
    "    \n",
    "    return TelTime"
   ]
  },
  {
   "cell_type": "markdown",
   "id": "86de7d80-7136-4bbf-b0bb-a11b46e2217f",
   "metadata": {
    "tags": []
   },
   "source": [
    "## Calculate the telescope time for one cluster"
   ]
  },
  {
   "cell_type": "code",
   "execution_count": 39,
   "id": "cecdf9ed-6b41-4d85-9a4d-907ffd58403e",
   "metadata": {},
   "outputs": [],
   "source": [
    "# Physical parameters of your cluster\n",
    "M500 = 3.0*1e14*u.M_sun # Mass of cluster\n",
    "z = 1.0 # The redshift of the cluster"
   ]
  },
  {
   "cell_type": "code",
   "execution_count": 40,
   "id": "25bbfda3-8067-44f0-89a0-0f77b978a047",
   "metadata": {
    "tags": []
   },
   "outputs": [
    {
     "name": "stdout",
     "output_type": "stream",
     "text": [
      "----- Cluster Properties -----\n",
      "M500 (1e14): 3.0\n",
      "Redshift: 1.0\n",
      "----- Signal Peak Stats -----\n",
      "Unfiltered y peak: 9.619897496889924e-05\n",
      "Beam-convolved y peak: 8.860120011199452e-05\n",
      "Filtered y peak: 4.743430252074613e-05\n",
      "Filtered peak, uK: -156.5331983184622\n",
      "Filtered peak, uJy/beam: -120.57286897503171\n",
      "----- Telescope Time Stats -----\n",
      "Your target sensitivity (uJy/beam) is: 12.057286897503172\n",
      "On-source time to 10 sigma peak detection (hrs): 22.348610246640227\n",
      "Total telescope time for this cluster (hrs): 44.75\n"
     ]
    }
   ],
   "source": [
    "obstime_single_cluster = calculate_observing_time(M500=M500,z=z,SNR_required=10)"
   ]
  },
  {
   "cell_type": "markdown",
   "id": "7b45785e-8cd6-49de-99a3-6561c4f966fe",
   "metadata": {},
   "source": [
    "## Calculate the telescope time for multiple clusters"
   ]
  },
  {
   "cell_type": "code",
   "execution_count": 41,
   "id": "790d876b-4c52-4a6d-909a-884003c1be54",
   "metadata": {},
   "outputs": [],
   "source": [
    "# Physical parameters of your cluster\n",
    "M500s = np.array([3.0,4.0,5.0,6.0])*1e14*u.M_sun # Mass of clusters\n",
    "zs = np.array([1.0,1.0,1.0,1.0]) # Matching redshifts for the M500s list"
   ]
  },
  {
   "cell_type": "code",
   "execution_count": 42,
   "id": "5d55f979-a550-4357-8bcb-5557d6635804",
   "metadata": {},
   "outputs": [
    {
     "name": "stdout",
     "output_type": "stream",
     "text": [
      "==================================================\n",
      "----- Cluster Properties -----\n",
      "M500 (1e14): 3.0\n",
      "Redshift: 1.0\n",
      "----- Signal Peak Stats -----\n",
      "Unfiltered y peak: 9.619897496889924e-05\n",
      "Beam-convolved y peak: 8.860120011199452e-05\n",
      "Filtered y peak: 4.743430252074613e-05\n",
      "Filtered peak, uK: -156.5331983184622\n",
      "Filtered peak, uJy/beam: -120.57286897503171\n",
      "----- Telescope Time Stats -----\n",
      "Your target sensitivity (uJy/beam) is: 12.057286897503172\n",
      "On-source time to 10 sigma peak detection (hrs): 22.348610246640227\n",
      "Total telescope time for this cluster (hrs): 44.75\n",
      "==================================================\n",
      "----- Cluster Properties -----\n",
      "M500 (1e14): 4.0\n",
      "Redshift: 1.0\n",
      "----- Signal Peak Stats -----\n",
      "Unfiltered y peak: 0.00013376973214360876\n",
      "Beam-convolved y peak: 0.00012461706064739533\n",
      "Filtered y peak: 6.403255596368375e-05\n",
      "Filtered peak, uK: -211.30743468015638\n",
      "Filtered peak, uJy/beam: -162.76383482120153\n",
      "----- Telescope Time Stats -----\n",
      "Your target sensitivity (uJy/beam) is: 16.276383482120153\n",
      "On-source time to 10 sigma peak detection (hrs): 12.264049202926548\n",
      "Total telescope time for this cluster (hrs): 24.75\n",
      "==================================================\n",
      "----- Cluster Properties -----\n",
      "M500 (1e14): 5.0\n",
      "Redshift: 1.0\n",
      "----- Signal Peak Stats -----\n",
      "Unfiltered y peak: 0.00017266723341949052\n",
      "Beam-convolved y peak: 0.00016159098229221895\n",
      "Filtered y peak: 8.021871968592325e-05\n",
      "Filtered peak, uK: -264.7217749635467\n",
      "Filtered peak, uJy/beam: -203.90731314759677\n",
      "----- Telescope Time Stats -----\n",
      "Your target sensitivity (uJy/beam) is: 20.390731314759677\n",
      "On-source time to 10 sigma peak detection (hrs): 7.8141925273085056\n",
      "Total telescope time for this cluster (hrs): 15.75\n",
      "==================================================\n",
      "----- Cluster Properties -----\n",
      "M500 (1e14): 6.0\n",
      "Redshift: 1.0\n",
      "----- Signal Peak Stats -----\n",
      "Unfiltered y peak: 0.00021264462426804625\n",
      "Beam-convolved y peak: 0.00019890428730061485\n",
      "Filtered y peak: 9.59299539117272e-05\n",
      "Filtered peak, uK: -316.56884790869975\n",
      "Filtered peak, uJy/beam: -243.84357203778225\n",
      "----- Telescope Time Stats -----\n",
      "Your target sensitivity (uJy/beam) is: 24.384357203778226\n",
      "On-source time to 10 sigma peak detection (hrs): 5.464206304845539\n",
      "Total telescope time for this cluster (hrs): 11.0\n",
      "==================================================\n",
      "Total Telescope Time (hrs):  96.25\n"
     ]
    }
   ],
   "source": [
    "TotalTime = 0 # Initiate total time counter\n",
    "for M500,z in zip(M500s,zs):\n",
    "    print(\"=\"*50)\n",
    "    obstime_cluster = calculate_observing_time(M500=M500,z=z,SNR_required=10)\n",
    "    TotalTime += obstime_cluster    \n",
    "print(\"=\"*50)\n",
    "print(\"Total Telescope Time (hrs): \", TotalTime)"
   ]
  }
 ],
 "metadata": {
  "kernelspec": {
   "display_name": "Python [conda env:m2_proposal_tools]",
   "language": "python",
   "name": "conda-env-m2_proposal_tools-py"
  },
  "language_info": {
   "codemirror_mode": {
    "name": "ipython",
    "version": 3
   },
   "file_extension": ".py",
   "mimetype": "text/x-python",
   "name": "python",
   "nbconvert_exporter": "python",
   "pygments_lexer": "ipython3",
   "version": "3.12.4"
  }
 },
 "nbformat": 4,
 "nbformat_minor": 5
}

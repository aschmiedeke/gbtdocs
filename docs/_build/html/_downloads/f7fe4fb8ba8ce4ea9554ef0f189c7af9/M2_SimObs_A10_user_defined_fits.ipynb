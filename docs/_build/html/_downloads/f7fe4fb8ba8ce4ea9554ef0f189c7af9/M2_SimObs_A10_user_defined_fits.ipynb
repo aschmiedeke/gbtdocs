{
 "cells": [
  {
   "cell_type": "markdown",
   "metadata": {},
   "source": [
    "# Example case of simulating observations using a user input file\n",
    "\n",
    "## Authors: Charles Romero and Emily Moravec\n",
    "\n",
    "Last updated: 2024-12-30.\n",
    "\n",
    "## Usage\n",
    "This notebook shows how to use _M2_ProposalTools_ to simulate observations of a target given a user input FITS file that contains the expected Compton-y map of their object. This notebook is based on the \"Example case of simulating observations of a cluster with multiple pointings\" example on M2_ProposalTools (https://m2-tj.readthedocs.io/en/latest/Leightweight_SimObs_A10.html which can be downloaded at https://github.com/CharlesERomero/M2_TJ/blob/master/docs/source/Leightweight_SimObs_A10.ipynb). "
   ]
  },
  {
   "cell_type": "code",
   "execution_count": 1,
   "metadata": {},
   "outputs": [],
   "source": [
    "### Useful libraries\n",
    "import numpy as np\n",
    "import astropy.units as u\n",
    "from astropy.io import fits \n",
    "#### Modules within our library\n",
    "import M2_ProposalTools.WorkHorse as WH\n",
    "import M2_ProposalTools.MakeRMSmap as MRM\n",
    "import M2_ProposalTools.ModelFitting as MF"
   ]
  },
  {
   "cell_type": "markdown",
   "metadata": {},
   "source": [
    "Let's define some options for the input cluster, mapping parameters, and scanning strategy:\n",
    "\n",
    "Assume the scan strategy is taken to be a set of four scans which are offset by the respective distance, in arcminutes, from the central pointing towards: (1) the west, (2) north, (3) east, and (4) south."
   ]
  },
  {
   "cell_type": "code",
   "execution_count": 1,
   "metadata": {},
   "outputs": [],
   "source": [
    "outdir   = \"/USER_SPECIFIED DIRECTORY/\" # output directory for products\n",
    "times    = [22]                 # Time in hours\n",
    "ptgs     = [[180,45.0]] # Centroid (RA,Dec) in degrees - function is expecting a list of pairs.\n",
    "sizes    = [3.5]               # Scan sizes, in arcminutes\n",
    "offsets  = [1.5]                 # Pointing offsets, in arcminutes."
   ]
  },
  {
   "cell_type": "markdown",
   "metadata": {},
   "source": [
    "Read in your Compton-y FITS file here."
   ]
  },
  {
   "cell_type": "code",
   "execution_count": 5,
   "metadata": {},
   "outputs": [],
   "source": [
    "SkyHDU  = fits.open(<USER_SPECIFIED_FILE>)\n",
    "pixsize_hdu = WH.get_pixarcsec(SkyHDU)\n",
    "SkyHDU[0].data = WH.smooth_by_M2_beam(image=SkyHDU[0].data,pixsize=pixsize_hdu)\n",
    "ShyHDU[0].data *= -3.5 # now in K. Can convert to uK later."
   ]
  },
  {
   "cell_type": "markdown",
   "metadata": {},
   "source": [
    "Your input image is what MUSTANG-2 would see if data processing imparted no filtering effects. Unfortunately, it does, and so we combined the filtering effects with the sensitivity mapmaking in the following routine. It returns two HDULists. The first HDUList has a filtered map and a corresponding weight map, where the weight map is the inverse variance. The second HDUList is the same, but the filtered map has an additional smoothing. This smoothing is the standard smoothing applied to MIDAS maps when producing SNR maps; it is with this smoothing that the inverse variance maps, as calculated, are appropriate comparisons."
   ]
  },
  {
   "cell_type": "code",
   "execution_count": 6,
   "metadata": {},
   "outputs": [],
   "source": [
    "FilterHDU,SmoothHDU = WH.lightweight_simobs_hdu(SkyHDU,ptgs=ptgs,sizes=sizes,times=times,offsets=offsets,center=None)"
   ]
  },
  {
   "cell_type": "markdown",
   "metadata": {},
   "source": [
    "Depending on what you want to track, this adds some information to the filenames"
   ]
  },
  {
   "cell_type": "code",
   "execution_count": 7,
   "metadata": {},
   "outputs": [],
   "source": [
    "pixstr = \"{:.1f}\".format(pixsize).replace(\".\",\"p\")\n",
    "zstr   = \"{:.1f}\".format(z).replace(\".\",\"z\")\n",
    "Mstr   = \"{:.1f}\".format(M5_14).replace(\".\",\"m\")\n",
    "sss    = [\"{:.1f}\".format(mysz).replace(\".\",\"s\") for mysz in sizes]\n",
    "sts    = [\"{:.1f}\".format(mytime).replace(\".\",\"h\") for mytime in times]\n",
    "ssstr  = \"_\".join(sss)\n",
    "ststr  = \"_\".join(sts)\n",
    "InputStr = \"_\".join([zstr,Mstr,ssstr,ststr,pixstr])"
   ]
  },
  {
   "cell_type": "markdown",
   "metadata": {},
   "source": [
    "Save to fits files for inspection."
   ]
  },
  {
   "cell_type": "code",
   "execution_count": 8,
   "metadata": {},
   "outputs": [],
   "source": [
    "Skyname = \"SimulatedSky_\"+InputStr+\".fits\"\n",
    "SkyHDU.writeto(outdir+Skyname,overwrite=True)\n",
    "\n",
    "filename = \"SimulatedObs_Unsmoothed_\"+InputStr+\".fits\"\n",
    "FilterHDU.writeto(outdir+filename,overwrite=True) # should be a list where first entry is signal map with no noise added and second entry is RMS map\n",
    "filename2 = \"SimulatedObs_Smoothed_\"+InputStr+\".fits\"\n",
    "SmoothHDU.writeto(outdir+filename2,overwrite=True)"
   ]
  },
  {
   "cell_type": "markdown",
   "metadata": {},
   "source": [
    "If you'd like to add noise."
   ]
  },
  {
   "cell_type": "code",
   "execution_count": 3,
   "metadata": {
    "tags": []
   },
   "outputs": [
    {
     "ename": "NameError",
     "evalue": "name 'np' is not defined",
     "output_type": "error",
     "traceback": [
      "\u001b[0;31m---------------------------------------------------------------------------\u001b[0m",
      "\u001b[0;31mNameError\u001b[0m                                 Traceback (most recent call last)",
      "Cell \u001b[0;32mIn[3], line 1\u001b[0m\n\u001b[0;32m----> 1\u001b[0m WhiteNoiseSTD1   \u001b[38;5;241m=\u001b[39m np\u001b[38;5;241m.\u001b[39mrandom\u001b[38;5;241m.\u001b[39mnormal(size\u001b[38;5;241m=\u001b[39mFilterHDU[\u001b[38;5;241m0\u001b[39m]\u001b[38;5;241m.\u001b[39mdata\u001b[38;5;241m.\u001b[39mshape) \u001b[38;5;66;03m# Standard deviation (RMS) = 1\u001b[39;00m\n\u001b[1;32m      2\u001b[0m NoiseRealization \u001b[38;5;241m=\u001b[39m WhiteNoiseSTD1 \u001b[38;5;241m*\u001b[39m FilterHDU[\u001b[38;5;241m1\u001b[39m]\u001b[38;5;241m.\u001b[39mdata  \u001b[38;5;66;03m# Second term is the actual (MUSTANG-2) RMS map\u001b[39;00m\n\u001b[1;32m      3\u001b[0m filename \u001b[38;5;241m=\u001b[39m \u001b[38;5;124m\"\u001b[39m\u001b[38;5;124mSimulatedObs_Unsmoothed_\u001b[39m\u001b[38;5;124m\"\u001b[39m\u001b[38;5;241m+\u001b[39mInputStr\u001b[38;5;241m+\u001b[39m\u001b[38;5;124m\"\u001b[39m\u001b[38;5;124m.fits\u001b[39m\u001b[38;5;124m\"\u001b[39m\n",
      "\u001b[0;31mNameError\u001b[0m: name 'np' is not defined"
     ]
    }
   ],
   "source": [
    "WhiteNoiseSTD1   = np.random.normal(size=SmoothHDU[0].data.shape) # Standard deviation (RMS) = 1\n",
    "NoiseRealization = WhiteNoiseSTD1 * SmoothHDU[1].data  # Second term is the actual (MUSTANG-2) RMS map\n",
    "filename = \"SimulatedObs_Smoothed_PlusNoise\"+InputStr+\".fits\"\n",
    "NoiseRealization.writeto(outdir+filename,overwrite=True)"
   ]
  }
 ],
 "metadata": {
  "kernelspec": {
   "display_name": "Python [conda env:m2_proposal_tools]",
   "language": "python",
   "name": "conda-env-m2_proposal_tools-py"
  },
  "language_info": {
   "codemirror_mode": {
    "name": "ipython",
    "version": 3
   },
   "file_extension": ".py",
   "mimetype": "text/x-python",
   "name": "python",
   "nbconvert_exporter": "python",
   "pygments_lexer": "ipython3",
   "version": "3.12.4"
  }
 },
 "nbformat": 4,
 "nbformat_minor": 4
}
